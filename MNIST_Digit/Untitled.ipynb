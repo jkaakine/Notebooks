{
 "cells": [
  {
   "cell_type": "markdown",
   "metadata": {},
   "source": [
    "# MNIST\n",
    "\n",
    "Lisää informaatio datasta ja kilpailusta:\n",
    "https://www.kaggle.com/c/digit-recognizer/data"
   ]
  },
  {
   "cell_type": "markdown",
   "metadata": {},
   "source": [
    "## Datan lataus ja tarkastelu"
   ]
  },
  {
   "cell_type": "code",
   "execution_count": 1,
   "metadata": {},
   "outputs": [],
   "source": [
    "import numpy as np\n",
    "import pandas as pd\n",
    "import matplotlib.pyplot as plt\n",
    "from scipy import ndimage\n",
    "from sklearn import model_selection\n",
    "%matplotlib inline"
   ]
  },
  {
   "cell_type": "code",
   "execution_count": 2,
   "metadata": {},
   "outputs": [],
   "source": [
    "#Luetaan data\n",
    "df_test = pd.read_csv('test.csv')\n",
    "df_train = pd.read_csv('train.csv')"
   ]
  },
  {
   "cell_type": "markdown",
   "metadata": {},
   "source": [
    "Katsotaan miltä data näyttää"
   ]
  },
  {
   "cell_type": "code",
   "execution_count": 3,
   "metadata": {},
   "outputs": [
    {
     "data": {
      "image/png": "[encoded data removed]",
      "text/plain": [
       "<Figure size 432x432 with 4 Axes>"
      ]
     },
     "metadata": {
      "needs_background": "light"
     },
     "output_type": "display_data"
    }
   ],
   "source": [
    "fig, ((ax1, ax2), (ax3, ax4)) = plt.subplots(nrows = 2, ncols = 2, sharex=True, sharey=True, figsize=(6,6))\n",
    "\n",
    "ax1.imshow(df_train.loc[4,df_train.columns[1]:df_train.columns[-1]].to_numpy().reshape((28,28)), cmap='gray')\n",
    "ax2.imshow(df_train.loc[5,df_train.columns[1]:df_train.columns[-1]].to_numpy().reshape((28,28)), cmap='gray')\n",
    "ax3.imshow(df_train.loc[6,df_train.columns[1]:df_train.columns[-1]].to_numpy().reshape((28,28)), cmap='gray')\n",
    "ax4.imshow(df_train.loc[7,df_train.columns[1]:df_train.columns[-1]].to_numpy().reshape((28,28)), cmap='gray')\n",
    "#fig.tight_layout()\n",
    "ax1.set(title=df_train.loc[4,df_train.columns[0]])\n",
    "ax2.set(title=df_train.loc[5,df_train.columns[0]])\n",
    "ax3.set(title=df_train.loc[6,df_train.columns[0]])\n",
    "ax4.set(title=df_train.loc[7,df_train.columns[0]])\n",
    "plt.show()"
   ]
  },
  {
   "cell_type": "code",
   "execution_count": 4,
   "metadata": {},
   "outputs": [
    {
     "name": "stdout",
     "output_type": "stream",
     "text": [
      "Koulutus setissä: 42000 kuvaa\n",
      "Testi setissä: 28000 kuvaa\n"
     ]
    }
   ],
   "source": [
    "print(f\"Koulutus setissä: {df_train.shape[0]} kuvaa\")\n",
    "print(f\"Testi setissä: {df_test.shape[0]} kuvaa\")"
   ]
  },
  {
   "cell_type": "code",
   "execution_count": 5,
   "metadata": {},
   "outputs": [
    {
     "data": {
      "text/plain": [
       "<AxesSubplot:>"
      ]
     },
     "execution_count": 5,
     "metadata": {},
     "output_type": "execute_result"
    },
    {
     "data": {
      "image/png": "[encoded data removed]",
      "text/plain": [
       "<Figure size 432x288 with 1 Axes>"
      ]
     },
     "metadata": {
      "needs_background": "light"
     },
     "output_type": "display_data"
    }
   ],
   "source": [
    "df_train['label'].value_counts().plot(kind='bar') "
   ]
  },
  {
   "cell_type": "markdown",
   "metadata": {},
   "source": [
    "Train-data näyttäisi olevan tasapainossa."
   ]
  },
  {
   "cell_type": "markdown",
   "metadata": {},
   "source": [
    "## Data augmentaatio\n",
    "Augmentaatiossa luodaan lisää dataa muokkaamalla olemassa olevia kuvia. Augmentaatio toimii regularisaatio metodina ja vähentää ylisovituksen riskin määrää.\n",
    "Tässä tapauksessa kuviin lisätään satunnaisesti eri määriä kohinaa ja kiertoa."
   ]
  },
  {
   "cell_type": "markdown",
   "metadata": {},
   "source": [
    "### Rotaatio\n",
    "Kutakin kuvan pikseliä $(x,y)$ voidaan kuvata paikkavektorilla. Uudet paikat $\\theta$ suuruisen rotaation jälkeen ovat\n",
    "\n",
    "$x' = x cos(\\theta) - y sin(\\theta)$ \n",
    "\n",
    "$y' = x sin(\\theta) + y cos(\\theta)$"
   ]
  },
  {
   "cell_type": "markdown",
   "metadata": {},
   "source": [
    "Esimerkki"
   ]
  },
  {
   "cell_type": "code",
   "execution_count": 6,
   "metadata": {},
   "outputs": [
    {
     "data": {
      "image/png": "[encoded data removed]",
      "text/plain": [
       "<Figure size 432x288 with 3 Axes>"
      ]
     },
     "metadata": {
      "needs_background": "light"
     },
     "output_type": "display_data"
    }
   ],
   "source": [
    "fig, (ax1, ax2, ax3) = plt.subplots(nrows=1, ncols=3,sharey=True)\n",
    "ax1.imshow(df_train.loc[56,df_train.columns[1]:df_train.columns[-1]].to_numpy().reshape((28,28)), cmap='gray')\n",
    "picture = df_train.loc[56,df_train.columns[1]:df_train.columns[-1]].to_numpy().reshape((28,28))\n",
    "picture2 = ndimage.rotate(picture, -45, reshape=False)\n",
    "picture = ndimage.rotate(picture, 45, reshape=False)\n",
    "ax2.imshow(picture, cmap='gray')\n",
    "ax3.imshow(picture2, cmap='gray')\n",
    "ax1.set(title='Ei rotaatiota')\n",
    "ax2.set(title='45 asteen rotaatio')\n",
    "ax3.set(title='-45 asteen rotaatio')\n",
    "plt.show()"
   ]
  },
  {
   "cell_type": "code",
   "execution_count": 7,
   "metadata": {},
   "outputs": [],
   "source": [
    "def random_rotation(image):\n",
    "    theta = np.random.randint(-45, 45) #random angle\n",
    "    rotated_image = ndimage.rotate(image, theta, reshape=False)\n",
    "    return rotated_image\n",
    "\n",
    "def pick_random_image(dataframe):\n",
    "    random_row = np.random.randint(0, dataframe.shape[0])\n",
    "    random_image = df_train.loc[random_row,df_train.columns[1]:df_train.columns[-1]].to_numpy().reshape((28,28))\n",
    "    return random_image"
   ]
  },
  {
   "cell_type": "markdown",
   "metadata": {},
   "source": [
    "Augmentoidaan 400 kuvaa per numero. (n. 10% lisää dataa)"
   ]
  },
  {
   "cell_type": "code",
   "execution_count": 8,
   "metadata": {},
   "outputs": [
    {
     "name": "stdout",
     "output_type": "stream",
     "text": [
      "Ennen augmentointia: (42000, 785)\n",
      "Augmentoinnin jälkeen: (46000, 785)\n"
     ]
    }
   ],
   "source": [
    "def augment(dataframe, label):\n",
    "    rows_list=[]\n",
    "    sample_data = dataframe[dataframe['label']==label]\n",
    "    for i in range(0,400):\n",
    "        rotated_image = random_rotation(pick_random_image(sample_data))\n",
    "        row = np.append(label, rotated_image.flatten())\n",
    "        rows_list.append(row)\n",
    "\n",
    "    return pd.DataFrame(rows_list, columns=dataframe.columns)\n",
    "\n",
    "matrix_train = df_train.to_numpy()\n",
    "print(f\"Ennen augmentointia: {matrix_train.shape}\")\n",
    "for i in range(0,10):\n",
    "    aug = augment(df_train.sample(frac=0.1), i)\n",
    "    tmp_matrix = np.vstack([matrix_train, aug])\n",
    "    matrix_train = tmp_matrix\n",
    "    \n",
    "print(f\"Augmentoinnin jälkeen: {matrix_train.shape}\")"
   ]
  },
  {
   "cell_type": "markdown",
   "metadata": {},
   "source": [
    "Tarkistetaan vielä, että jakauma on pysynyt hyvänä"
   ]
  },
  {
   "cell_type": "code",
   "execution_count": 9,
   "metadata": {},
   "outputs": [
    {
     "data": {
      "text/plain": [
       "<AxesSubplot:>"
      ]
     },
     "execution_count": 9,
     "metadata": {},
     "output_type": "execute_result"
    },
    {
     "data": {
      "image/png": "[encoded data removed]",
      "text/plain": [
       "<Figure size 432x288 with 1 Axes>"
      ]
     },
     "metadata": {
      "needs_background": "light"
     },
     "output_type": "display_data"
    }
   ],
   "source": [
    "pd.DataFrame(matrix_train)[0].value_counts().plot(kind='bar') "
   ]
  },
  {
   "cell_type": "markdown",
   "metadata": {},
   "source": [
    "### Datan skaalaus\n",
    "\n",
    "\n",
    "Kaikki pikseli arvot on nyt välillä $0-255$, mutta skaalataan ne välille $[0..1]$. Skaalaus helpottaa optimisointi algoritmia löytämään globaalin minimin.\n",
    "Skaalaus tapahtuu jakamalla kaikki arvot $255$."
   ]
  },
  {
   "cell_type": "code",
   "execution_count": 10,
   "metadata": {},
   "outputs": [
    {
     "data": {
      "text/plain": [
       "<matplotlib.image.AxesImage at 0x1244387f0>"
      ]
     },
     "execution_count": 10,
     "metadata": {},
     "output_type": "execute_result"
    },
    {
     "data": {
      "image/png": "[encoded data removed]",
      "text/plain": [
       "<Figure size 432x288 with 1 Axes>"
      ]
     },
     "metadata": {
      "needs_background": "light"
     },
     "output_type": "display_data"
    }
   ],
   "source": [
    "df_train_augmented = pd.DataFrame(matrix_train)\n",
    "df_train_augmented_norm = df_train_augmented.iloc[:, 1:] / 255\n",
    "plt.imshow(df_train_augmented_norm.loc[4,1:784].to_numpy().reshape((28,28)), cmap='gray')"
   ]
  },
  {
   "cell_type": "markdown",
   "metadata": {},
   "source": [
    "### Train test split\n",
    "Jaetaan data kahteen osaan suhteessa 90/10, jossa 90% datasta käytetään mallin kouluttamiseen ja 10 % käytetään mallin arviointiin. Tämä siksi, koska annetussa testi datassa ei ole annettu oikeaa vastausta."
   ]
  },
  {
   "cell_type": "code",
   "execution_count": 11,
   "metadata": {},
   "outputs": [],
   "source": [
    "X = df_train_augmented_norm.loc[:, 1:784]\n",
    "y = df_train_augmented.iloc[:, 0]"
   ]
  },
  {
   "cell_type": "code",
   "execution_count": 12,
   "metadata": {},
   "outputs": [],
   "source": [
    "X_train, X_test, y_train, y_test = model_selection.train_test_split(X,y,test_size=0.1, random_state=42) \n",
    "#Set random state for pseudorandomness"
   ]
  },
  {
   "cell_type": "code",
   "execution_count": 13,
   "metadata": {},
   "outputs": [
    {
     "name": "stdout",
     "output_type": "stream",
     "text": [
      "X_train shape: (41400, 784); y_train shape: (41400,)\n",
      "X_test shape: (4600, 784); y_test shape: (4600,)\n"
     ]
    }
   ],
   "source": [
    "print(f\"X_train shape: {X_train.shape}; y_train shape: {y_train.shape}\")\n",
    "print(f\"X_test shape: {X_test.shape}; y_test shape: {y_test.shape}\")"
   ]
  },
  {
   "cell_type": "markdown",
   "metadata": {},
   "source": [
    "## Mallin luominen\n",
    "### CNN - Convolutional neural networks"
   ]
  },
  {
   "cell_type": "code",
   "execution_count": 14,
   "metadata": {},
   "outputs": [],
   "source": [
    "import torch\n",
    "import torch.nn as nn\n",
    "from torch.autograd import Variable"
   ]
  },
  {
   "cell_type": "code",
   "execution_count": 15,
   "metadata": {},
   "outputs": [],
   "source": [
    "class CNNModel(nn.Module):\n",
    "    def __init__(self):\n",
    "        super(CNNModel, self).__init__()\n",
    "        \n",
    "        #1. konvoluutio\n",
    "        self.cnn1 = nn.Conv2d(in_channels=1, out_channels=16, kernel_size = 6, stride = 1, padding = 0)\n",
    "        self.relu1 = nn.ReLU()\n",
    "        #22x22x16\n",
    "        \n",
    "        #1. Max pooling\n",
    "        self.maxpool1 = nn.MaxPool2d(kernel_size=2)\n",
    "        #11x11x16\n",
    "        \n",
    "        \n",
    "        #2. konvoluutio\n",
    "        self.cnn2 = nn.Conv2d(in_channels=16, out_channels= 32, kernel_size = 3, stride=1, padding =0)\n",
    "        self.relu2 = nn.ReLU()\n",
    "        #9x9x32\n",
    "        \n",
    "        # 2. maxpooling\n",
    "        self.maxpool2 = nn.MaxPool2d(kernel_size=2)\n",
    "        #4x4x32\n",
    "        \n",
    "        #FC\n",
    "        self.fc1 = nn.Linear(32*4*4,10)\n",
    "        \n",
    "    def forward(self, x):\n",
    "        out = self.cnn1(x)\n",
    "        out=self.relu1(out)  #1.konv\n",
    "        out = self.maxpool1(out)  #1.max\n",
    "        out= self.cnn2(out)\n",
    "        out=self.relu2(out) #2.conv\n",
    "        out=self.maxpool2(out)#2.max\n",
    "        out = out.view(out.size(0), -1) #flatten for fc\n",
    "        out = self.fc1(out) #linear out\n",
    "        return out\n",
    "    \n",
    "model = CNNModel()"
   ]
  },
  {
   "cell_type": "code",
   "execution_count": 41,
   "metadata": {},
   "outputs": [],
   "source": [
    "import torch.optim as optim\n",
    "\n",
    "features_train = torch.from_numpy(X_train.to_numpy().astype(np.float32))\n",
    "label_train = torch.from_numpy(y_train.to_numpy().astype(np.float32)).type(torch.LongTensor)\n",
    "features_test = torch.from_numpy(X_test.to_numpy().astype(np.float32))\n",
    "label_test = torch.from_numpy(y_test.to_numpy().astype(np.float32)).type(torch.LongTensor)\n",
    "train = torch.utils.data.TensorDataset(features_train, label_train)\n",
    "test = torch.utils.data.TensorDataset(features_test, label_test)\n",
    "\n",
    "train_loader = torch.utils.data.DataLoader(train, batch_size = 100, shuffle = True)\n",
    "test_loader = torch.utils.data.DataLoader(test, batch_size = 100, shuffle = True)\n",
    "\n",
    "criterion = nn.CrossEntropyLoss()\n",
    "optimizer = optim.Adam(model.parameters(), lr = 0.001)"
   ]
  },
  {
   "cell_type": "code",
   "execution_count": 42,
   "metadata": {},
   "outputs": [
    {
     "name": "stdout",
     "output_type": "stream",
     "text": [
      "Iteration: 250 \n",
      " Loss: 0.45241475105285645 \n",
      " Accuracy: 90.63043212890625.\n",
      "Iteration: 500 \n",
      " Loss: 0.6133931279182434 \n",
      " Accuracy: 90.65217590332031.\n",
      "Iteration: 750 \n",
      " Loss: 0.5700414776802063 \n",
      " Accuracy: 90.4565200805664.\n",
      "Iteration: 1000 \n",
      " Loss: 0.26190468668937683 \n",
      " Accuracy: 90.67391204833984.\n",
      "Iteration: 1250 \n",
      " Loss: 0.5478730797767639 \n",
      " Accuracy: 90.67391204833984.\n",
      "Iteration: 1500 \n",
      " Loss: 0.6204952001571655 \n",
      " Accuracy: 90.76087188720703.\n",
      "Iteration: 1750 \n",
      " Loss: 0.3303655982017517 \n",
      " Accuracy: 90.63043212890625.\n",
      "Iteration: 2000 \n",
      " Loss: 0.2510245740413666 \n",
      " Accuracy: 90.5434799194336.\n",
      "Iteration: 2250 \n",
      " Loss: 0.40671417117118835 \n",
      " Accuracy: 90.67391204833984.\n",
      "Iteration: 2500 \n",
      " Loss: 0.36767876148223877 \n",
      " Accuracy: 90.5.\n",
      "Iteration: 2750 \n",
      " Loss: 0.35545843839645386 \n",
      " Accuracy: 90.47826385498047.\n",
      "Iteration: 3000 \n",
      " Loss: 0.2771175503730774 \n",
      " Accuracy: 90.21739196777344.\n",
      "Iteration: 3250 \n",
      " Loss: 0.5785958170890808 \n",
      " Accuracy: 90.60869598388672.\n"
     ]
    }
   ],
   "source": [
    "count = 0\n",
    "loss_list = []\n",
    "iteration_list = []\n",
    "accuracy_list = []\n",
    "for epoch in range(8):\n",
    "    for i, (images,labels) in enumerate(train_loader):\n",
    "        train = Variable(images.view(100,1,28,28))\n",
    "        labels = Variable(labels)\n",
    "        \n",
    "        optimizer.zero_grad()\n",
    "        \n",
    "        outputs = model(train)\n",
    "        loss = criterion(outputs, labels)\n",
    "        loss.backward()\n",
    "        optimizer.step()\n",
    "        count += 1\n",
    "        \n",
    "        if count % 50 == 0:\n",
    "            correct = 0\n",
    "            total = 0\n",
    "            for images, labels in test_loader:\n",
    "                test = Variable(images.view(100,1,28,28))\n",
    "                \n",
    "                outputs = model(test)\n",
    "                \n",
    "                predicted = torch.max(outputs.data, 1)[1]\n",
    "                \n",
    "                total += len(labels)\n",
    "                correct += (predicted == labels).sum()\n",
    "                \n",
    "            accuracy = 100 * correct / float(total)\n",
    "            \n",
    "            loss_list.append(loss.data)\n",
    "            iteration_list.append(count)\n",
    "            accuracy_list.append(accuracy)\n",
    "        if count % 250 == 0:\n",
    "            print(f\"Iteration: {count} \\n Loss: {loss.data} \\n Accuracy: {accuracy}.\")"
   ]
  },
  {
   "cell_type": "markdown",
   "metadata": {},
   "source": [
    "## Evaluaatio"
   ]
  },
  {
   "cell_type": "code",
   "execution_count": 43,
   "metadata": {},
   "outputs": [],
   "source": [
    "torch.save(model, './mnist_model.pt')\n",
    "validate = df_test.to_numpy().astype(np.float32) / 255\n",
    "validate_features = torch.from_numpy(validate)"
   ]
  },
  {
   "cell_type": "code",
   "execution_count": 77,
   "metadata": {},
   "outputs": [],
   "source": [
    "val_loader = torch.utils.data.DataLoader(validate_features, batch_size = 100)\n",
    "outputs = np.array([])\n",
    "with torch.no_grad():\n",
    "    for i, data in enumerate(val_loader):\n",
    "        data = Variable(data.view(100,1,28,28))\n",
    "        output = model(data)\n",
    "        predicted = torch.max(output.data, 1)[1]\n",
    "        #outputs.append(predicted.numpy())\n",
    "        outputs = np.append(outputs, predicted.numpy())\n",
    "    "
   ]
  },
  {
   "cell_type": "code",
   "execution_count": 84,
   "metadata": {},
   "outputs": [],
   "source": [
    "df_val = pd.DataFrame(outputs.flatten().astype(int))\n",
    "df_val.index += 1"
   ]
  },
  {
   "cell_type": "code",
   "execution_count": 85,
   "metadata": {},
   "outputs": [],
   "source": [
    "df_val.to_csv('./submission.csv', index=True)"
   ]
  },
  {
   "cell_type": "markdown",
   "metadata": {},
   "source": [
    "https://www.kaggle.com/jaka0206\n",
    "\n",
    "Tämä malli saavutti kilpailussa n. $98 \\%$ tarkkuuden."
   ]
  },
  {
   "cell_type": "code",
   "execution_count": null,
   "metadata": {},
   "outputs": [],
   "source": []
  }
 ],
 "metadata": {
  "kernelspec": {
   "display_name": "Python 3",
   "language": "python",
   "name": "python3"
  },
  "language_info": {
   "codemirror_mode": {
    "name": "ipython",
    "version": 3
   },
   "file_extension": ".py",
   "mimetype": "text/x-python",
   "name": "python",
   "nbconvert_exporter": "python",
   "pygments_lexer": "ipython3",
   "version": "3.8.6"
  }
 },
 "nbformat": 4,
 "nbformat_minor": 4
}
