{
 "cells": [
  {
   "cell_type": "markdown",
   "metadata": {},
   "source": [
    "# RetailMart - Regressioanalyysi\n",
    "Data http://media.wiley.com/product_ancillary/6X/11186614/DOWNLOAD/ch06.zip, RetailMart.xlsx\n",
    "\n",
    "Tavoitteena on ostohistorian perusteella ennustaa, onko henkilö raskaana. Tätä voidaan käyttää kohdennetussa mainostamisessa."
   ]
  },
  {
   "cell_type": "markdown",
   "metadata": {},
   "source": [
    "## Datan lataaminen ja esikäsittely"
   ]
  },
  {
   "cell_type": "code",
   "execution_count": 1,
   "metadata": {},
   "outputs": [],
   "source": [
    "import pandas as pd\n",
    "import numpy as np\n",
    "import matplotlib.pyplot as plt\n",
    "from sklearn.linear_model import LogisticRegression\n",
    "from sklearn import metrics\n",
    "from sklearn.model_selection import GridSearchCV\n",
    "from sklearn.model_selection import RepeatedStratifiedKFold\n",
    "import seaborn as sns\n",
    "from sklearn.decomposition import PCA\n",
    "from sklearn.ensemble import RandomForestClassifier\n",
    "from sklearn.tree import export_graphviz\n",
    "import graphviz"
   ]
  },
  {
   "cell_type": "code",
   "execution_count": 2,
   "metadata": {},
   "outputs": [],
   "source": [
    "#apufunktio datan lataamiseen ja käsittelyyn\n",
    "def load_data(filename: str, process: bool) -> pd.DataFrame():\n",
    "    df = pd.read_csv(filename)\n",
    "    if not process:\n",
    "        return df\n",
    "    if process:\n",
    "        return preprocess(df)\n",
    "\n",
    "def preprocess(df: pd.DataFrame()) -> pd.DataFrame():\n",
    "    df_tmp_1 = pd.get_dummies(df['Implied Gender'], prefix='Gender', prefix_sep='_', drop_first=False)\n",
    "    df_tmp_2 = pd.get_dummies(df['Home/Apt/ PO Box'], prefix='Residency', prefix_sep='_', drop_first=False)\n",
    "    df_final = df_customers_dummied = pd.concat([df_tmp_1, df_tmp_2, df.iloc[:,2::]],axis=1)\n",
    "    return df_final\n",
    "    "
   ]
  },
  {
   "cell_type": "code",
   "execution_count": 3,
   "metadata": {},
   "outputs": [
    {
     "name": "stdout",
     "output_type": "stream",
     "text": [
      "<class 'pandas.core.frame.DataFrame'>\n",
      "RangeIndex: 1000 entries, 0 to 999\n",
      "Data columns (total 22 columns):\n",
      " #   Column                  Non-Null Count  Dtype\n",
      "---  ------                  --------------  -----\n",
      " 0   Gender_F                1000 non-null   uint8\n",
      " 1   Gender_M                1000 non-null   uint8\n",
      " 2   Gender_U                1000 non-null   uint8\n",
      " 3   Residency_A             1000 non-null   uint8\n",
      " 4   Residency_H             1000 non-null   uint8\n",
      " 5   Residency_P             1000 non-null   uint8\n",
      " 6   Pregnancy Test          1000 non-null   int64\n",
      " 7   Birth Control           1000 non-null   int64\n",
      " 8   Feminine Hygiene        1000 non-null   int64\n",
      " 9   Folic Acid              1000 non-null   int64\n",
      " 10  Prenatal Vitamins       1000 non-null   int64\n",
      " 11  Prenatal Yoga           1000 non-null   int64\n",
      " 12  Body Pillow             1000 non-null   int64\n",
      " 13  Ginger Ale              1000 non-null   int64\n",
      " 14  Sea Bands               1000 non-null   int64\n",
      " 15  Stopped buying ciggies  1000 non-null   int64\n",
      " 16  Cigarettes              1000 non-null   int64\n",
      " 17  Smoking Cessation       1000 non-null   int64\n",
      " 18  Stopped buying wine     1000 non-null   int64\n",
      " 19  Wine                    1000 non-null   int64\n",
      " 20  Maternity Clothes       1000 non-null   int64\n",
      " 21  PREGNANT                1000 non-null   int64\n",
      "dtypes: int64(16), uint8(6)\n",
      "memory usage: 131.0 KB\n"
     ]
    }
   ],
   "source": [
    "df_customers_dummied = load_data('./Data/Pregnancy.csv', process=True)\n",
    "df_customers_dummied.info()"
   ]
  },
  {
   "cell_type": "code",
   "execution_count": 4,
   "metadata": {},
   "outputs": [],
   "source": [
    "#Training data\n",
    "X_train = df_customers_dummied.iloc[:, :-1]\n",
    "y_train = df_customers_dummied.iloc[:, -1].astype('category')"
   ]
  },
  {
   "cell_type": "markdown",
   "metadata": {},
   "source": [
    "## Logistisen regressiomallin hyperparametrien optimisaatio"
   ]
  },
  {
   "cell_type": "code",
   "execution_count": 5,
   "metadata": {},
   "outputs": [
    {
     "name": "stdout",
     "output_type": "stream",
     "text": [
      "Paras tulos: 0.82900 parametreilla {'C': 1, 'penalty': 'l2', 'solver': 'newton-cg'} \n",
      "\n",
      "Tulos (ka): 0.76240 (std:0.048), parametrit {'C': 0.001, 'penalty': 'l2', 'solver': 'newton-cg'}.\n",
      "Tulos (ka): 0.76240 (std:0.048), parametrit {'C': 0.001, 'penalty': 'l2', 'solver': 'lbfgs'}.\n",
      "Tulos (ka): 0.76500 (std:0.048), parametrit {'C': 0.001, 'penalty': 'l2', 'solver': 'liblinear'}.\n",
      "Tulos (ka): 0.76600 (std:0.046), parametrit {'C': 0.01, 'penalty': 'l2', 'solver': 'newton-cg'}.\n",
      "Tulos (ka): 0.76600 (std:0.046), parametrit {'C': 0.01, 'penalty': 'l2', 'solver': 'lbfgs'}.\n",
      "Tulos (ka): 0.76660 (std:0.047), parametrit {'C': 0.01, 'penalty': 'l2', 'solver': 'liblinear'}.\n",
      "Tulos (ka): 0.82020 (std:0.040), parametrit {'C': 0.1, 'penalty': 'l2', 'solver': 'newton-cg'}.\n",
      "Tulos (ka): 0.82020 (std:0.040), parametrit {'C': 0.1, 'penalty': 'l2', 'solver': 'lbfgs'}.\n",
      "Tulos (ka): 0.81840 (std:0.039), parametrit {'C': 0.1, 'penalty': 'l2', 'solver': 'liblinear'}.\n",
      "Tulos (ka): 0.82900 (std:0.040), parametrit {'C': 1, 'penalty': 'l2', 'solver': 'newton-cg'}.\n",
      "Tulos (ka): 0.82900 (std:0.040), parametrit {'C': 1, 'penalty': 'l2', 'solver': 'lbfgs'}.\n",
      "Tulos (ka): 0.82900 (std:0.040), parametrit {'C': 1, 'penalty': 'l2', 'solver': 'liblinear'}.\n",
      "Tulos (ka): 0.82780 (std:0.042), parametrit {'C': 10, 'penalty': 'l2', 'solver': 'newton-cg'}.\n",
      "Tulos (ka): 0.82780 (std:0.042), parametrit {'C': 10, 'penalty': 'l2', 'solver': 'lbfgs'}.\n",
      "Tulos (ka): 0.82780 (std:0.042), parametrit {'C': 10, 'penalty': 'l2', 'solver': 'liblinear'}.\n",
      "Tulos (ka): 0.82760 (std:0.042), parametrit {'C': 100, 'penalty': 'l2', 'solver': 'newton-cg'}.\n",
      "Tulos (ka): 0.82760 (std:0.042), parametrit {'C': 100, 'penalty': 'l2', 'solver': 'lbfgs'}.\n",
      "Tulos (ka): 0.82760 (std:0.042), parametrit {'C': 100, 'penalty': 'l2', 'solver': 'liblinear'}.\n"
     ]
    }
   ],
   "source": [
    "model = LogisticRegression()\n",
    "#Design of Experiments\n",
    "solvers = ['newton-cg', 'lbfgs', 'liblinear'] #Ratkaisualgoritmi\n",
    "penalties = ['l2'] #Regularisaatiofunktio, riippuu ratkaisualgoritmista joten ei vielä testata sitä vaan valitaan yleisin l2-regularisaatio\n",
    "C_values = [0.001, 0.01, 0.1, 1, 10, 100] #Regularisaation voimakkuus\n",
    "\n",
    "grid = dict(solver=solvers, penalty=penalties, C=C_values)\n",
    "cv = RepeatedStratifiedKFold(n_splits=10, n_repeats=5, random_state=42)\n",
    "grid_search = GridSearchCV(estimator=model, \n",
    "                          param_grid = grid,\n",
    "                          n_jobs = 1,\n",
    "                          cv=cv,\n",
    "                          scoring='accuracy',\n",
    "                          error_score=0)\n",
    "grid_result = grid_search.fit(X_train, y_train)\n",
    "\n",
    "#Summa summarum\n",
    "print(f\"Paras tulos: {grid_result.best_score_:.5f} parametreilla {grid_result.best_params_} \\n\")\n",
    "means = grid_result.cv_results_['mean_test_score']\n",
    "stds = grid_result.cv_results_['std_test_score']\n",
    "params = grid_result.cv_results_['params']\n",
    "for mean, stdev, param in zip(means,stds,params):\n",
    "    print(f\"Tulos (ka): {mean:.5f} (std:{stdev:.3f}), parametrit {param}.\")"
   ]
  },
  {
   "cell_type": "markdown",
   "metadata": {},
   "source": [
    "## Mallin luominen"
   ]
  },
  {
   "cell_type": "code",
   "execution_count": 6,
   "metadata": {},
   "outputs": [],
   "source": [
    "logreg = LogisticRegression(C=1, penalty='l2', solver='lbfgs')"
   ]
  },
  {
   "cell_type": "markdown",
   "metadata": {},
   "source": [
    "Testi datan lataaminen ja käsittely"
   ]
  },
  {
   "cell_type": "code",
   "execution_count": 7,
   "metadata": {},
   "outputs": [],
   "source": [
    "test_df = load_data('./Data/Pregnancy_Test.csv', process=True)\n",
    "X_test = df_customers_dummied.iloc[:, :-1]\n",
    "y_test = df_customers_dummied.iloc[:, -1].astype('category')"
   ]
  },
  {
   "cell_type": "code",
   "execution_count": 8,
   "metadata": {},
   "outputs": [
    {
     "data": {
      "text/plain": [
       "LogisticRegression(C=1)"
      ]
     },
     "execution_count": 8,
     "metadata": {},
     "output_type": "execute_result"
    }
   ],
   "source": [
    "#Mallin sovittaminen\n",
    "logreg.fit(X_train, y_train)"
   ]
  },
  {
   "cell_type": "markdown",
   "metadata": {},
   "source": [
    "## Mallin arviointi"
   ]
  },
  {
   "cell_type": "code",
   "execution_count": 9,
   "metadata": {},
   "outputs": [],
   "source": [
    "#Mallin testaaminen testidataa vasten\n",
    "y_pred = logreg.predict(X_test)\n"
   ]
  },
  {
   "cell_type": "code",
   "execution_count": 10,
   "metadata": {},
   "outputs": [
    {
     "name": "stdout",
     "output_type": "stream",
     "text": [
      "Tarkkuus: 83.6%\n"
     ]
    }
   ],
   "source": [
    "#Mallin tarkkuus testidataa vasten\n",
    "print(f\"Tarkkuus: {metrics.accuracy_score(y_test, y_pred)*100}%\")"
   ]
  },
  {
   "cell_type": "code",
   "execution_count": 11,
   "metadata": {},
   "outputs": [
    {
     "data": {
      "image/png": "[encoded data removed]",
      "text/plain": [
       "<Figure size 432x288 with 1 Axes>"
      ]
     },
     "metadata": {
      "needs_background": "light"
     },
     "output_type": "display_data"
    }
   ],
   "source": [
    "fpr, tpr, thresholds = metrics.roc_curve(y_test, logreg.predict_proba(X_test)[:,1])\n",
    "plt.plot(fpr, tpr)\n",
    "plt.xlim([0.0, 1.0])\n",
    "plt.ylim([0.0, 1.0])\n",
    "plt.xlabel('False Positive Rate (1 - Specificity)')\n",
    "plt.ylabel('True Positive Rate (Sensitivity)')\n",
    "plt.show()\n"
   ]
  },
  {
   "cell_type": "code",
   "execution_count": 12,
   "metadata": {},
   "outputs": [
    {
     "name": "stdout",
     "output_type": "stream",
     "text": [
      "AUC: 0.9106960000000001\n"
     ]
    }
   ],
   "source": [
    "print(f\"AUC: {metrics.roc_auc_score(y_test, logreg.predict_proba(X_test)[:,1])}\")"
   ]
  },
  {
   "cell_type": "code",
   "execution_count": 13,
   "metadata": {},
   "outputs": [
    {
     "data": {
      "text/plain": [
       "Text(0.5, 1.0, 'Mallin arvio vs. oikea arvo')"
      ]
     },
     "execution_count": 13,
     "metadata": {},
     "output_type": "execute_result"
    },
    {
     "data": {
      "image/png": "[encoded data removed]",
      "text/plain": [
       "<Figure size 402.375x360 with 1 Axes>"
      ]
     },
     "metadata": {
      "needs_background": "light"
     },
     "output_type": "display_data"
    }
   ],
   "source": [
    "df_predictions = pd.DataFrame({'prob': logreg.predict_proba(X_test)[:,1], 'y_test': y_test})\n",
    "\n",
    "plot = sns.displot(df_predictions, x='prob', hue='y_test')\n",
    "plt.title(\"Mallin arvio vs. oikea arvo\")"
   ]
  },
  {
   "cell_type": "markdown",
   "metadata": {},
   "source": [
    "# Random Forest luokittelija"
   ]
  },
  {
   "cell_type": "code",
   "execution_count": 14,
   "metadata": {},
   "outputs": [
    {
     "data": {
      "text/plain": [
       "RandomForestClassifier(n_estimators=10, n_jobs=1)"
      ]
     },
     "execution_count": 14,
     "metadata": {},
     "output_type": "execute_result"
    }
   ],
   "source": [
    "forest_classifier = RandomForestClassifier(n_estimators = 10, n_jobs=1)\n",
    "forest_classifier.fit(X_train, y_train)"
   ]
  },
  {
   "cell_type": "code",
   "execution_count": 15,
   "metadata": {},
   "outputs": [
    {
     "name": "stdout",
     "output_type": "stream",
     "text": [
      "Tarkkuus: 86.6%\n"
     ]
    }
   ],
   "source": [
    "forest_y_pred = forest_classifier.predict(X_test)\n",
    "forest_y_pred_proba = forest_classifier.predict_proba(X_test)\n",
    "#Tarkkuus\n",
    "print(f\"Tarkkuus: {metrics.accuracy_score(y_test, forest_y_pred)*100}%\")"
   ]
  },
  {
   "cell_type": "code",
   "execution_count": 16,
   "metadata": {},
   "outputs": [
    {
     "data": {
      "image/png": "[encoded data removed]",
      "text/plain": [
       "<Figure size 432x288 with 1 Axes>"
      ]
     },
     "metadata": {
      "needs_background": "light"
     },
     "output_type": "display_data"
    }
   ],
   "source": [
    "fpr, tpr, thresholds = metrics.roc_curve(y_test, forest_y_pred_proba[:,1])\n",
    "plt.plot(fpr, tpr)\n",
    "plt.xlim([0.0, 1.0])\n",
    "plt.ylim([0.0, 1.0])\n",
    "plt.xlabel('False Positive Rate (1 - Specificity)')\n",
    "plt.ylabel('True Positive Rate (Sensitivity)')\n",
    "plt.show()"
   ]
  },
  {
   "cell_type": "code",
   "execution_count": 17,
   "metadata": {},
   "outputs": [
    {
     "name": "stdout",
     "output_type": "stream",
     "text": [
      "AUC: 0.946462\n"
     ]
    }
   ],
   "source": [
    "print(f\"AUC: {metrics.roc_auc_score(y_test, forest_y_pred_proba[:,1])}\")"
   ]
  },
  {
   "cell_type": "code",
   "execution_count": 18,
   "metadata": {},
   "outputs": [
    {
     "data": {
      "text/plain": [
       "Text(0.5, 1.0, 'Piirteiden painoarvot luokittelussa')"
      ]
     },
     "execution_count": 18,
     "metadata": {},
     "output_type": "execute_result"
    },
    {
     "data": {
      "image/png": "[encoded data removed]",
      "text/plain": [
       "<Figure size 720x720 with 1 Axes>"
      ]
     },
     "metadata": {
      "needs_background": "light"
     },
     "output_type": "display_data"
    }
   ],
   "source": [
    "df_f_importance = pd.DataFrame({\"Feature\": list(X_train.columns),\n",
    "                                \"Importance\": forest_classifier.feature_importances_})\n",
    "df_f_importance = df_f_importance.sort_values(by=['Importance'],ascending= True)\n",
    "fig2, ax2 = plt.subplots(figsize=(10,10))\n",
    "ax2.barh(y=df_f_importance['Feature'], width=df_f_importance['Importance'])\n",
    "ax2.set_title('Piirteiden painoarvot luokittelussa')"
   ]
  }
 ],
 "metadata": {
  "kernelspec": {
   "display_name": "Python 3",
   "language": "python",
   "name": "python3"
  },
  "language_info": {
   "codemirror_mode": {
    "name": "ipython",
    "version": 3
   },
   "file_extension": ".py",
   "mimetype": "text/x-python",
   "name": "python",
   "nbconvert_exporter": "python",
   "pygments_lexer": "ipython3",
   "version": "3.8.6"
  }
 },
 "nbformat": 4,
 "nbformat_minor": 4
}
